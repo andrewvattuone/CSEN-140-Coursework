{
 "cells": [
  {
   "cell_type": "markdown",
   "id": "0b2414ca",
   "metadata": {},
   "source": [
    "# Lab 1\n",
    "\n",
    "Welcome to Lab 1! This notebook will help you get familiar with Python and NumPy.\n",
    "\n",
    "Start by creating a Conda environment on the HPC using the instructions in the repo readme. Then open this notebook in that environment."
   ]
  },
  {
   "cell_type": "markdown",
   "id": "06b26bb6",
   "metadata": {},
   "source": [
    "## Introduction to Python\n",
    "\n",
    "Let's start with some basic Python operations."
   ]
  },
  {
   "cell_type": "markdown",
   "id": "9190c82d",
   "metadata": {},
   "source": [
    "### Printing and Basic Operations"
   ]
  },
  {
   "cell_type": "code",
   "execution_count": null,
   "id": "03d8a837",
   "metadata": {},
   "outputs": [],
   "source": [
    "print('Hello, world!')\n",
    "print('Sum of 2 and 3:', 2 + 3)\n",
    "print('Multiplication:', 4 * 5)\n",
    "print('Exponentiation:', 2 ** 3)"
   ]
  },
  {
   "cell_type": "markdown",
   "id": "67dd8f2a",
   "metadata": {},
   "source": [
    "### Variables and Data Types"
   ]
  },
  {
   "cell_type": "code",
   "execution_count": null,
   "id": "babd5dab",
   "metadata": {},
   "outputs": [],
   "source": [
    "a = 10\n",
    "b = 3.5\n",
    "c = 'Python'\n",
    "d = True\n",
    "print(f'Integer: {a}, Float: {b}, String: {c}, Boolean: {d}')"
   ]
  },
  {
   "cell_type": "markdown",
   "id": "37da0c08",
   "metadata": {},
   "source": [
    "### Lists and Loops"
   ]
  },
  {
   "cell_type": "code",
   "execution_count": null,
   "id": "05f4b18f",
   "metadata": {},
   "outputs": [],
   "source": [
    "my_list = [1, 2, 3, 4, 5]\n",
    "for item in my_list:\n",
    "    print(item * 2)"
   ]
  },
  {
   "cell_type": "markdown",
   "id": "459e170b",
   "metadata": {},
   "source": [
    "### Function Definition"
   ]
  },
  {
   "cell_type": "code",
   "execution_count": null,
   "id": "e71a03cb",
   "metadata": {},
   "outputs": [],
   "source": [
    "def add_numbers(a, b):\n",
    "    return a + b\n",
    "\n",
    "print('Function output:', add_numbers(5, 7))"
   ]
  },
  {
   "cell_type": "markdown",
   "id": "96190886",
   "metadata": {},
   "source": [
    "### Conditional Statements"
   ]
  },
  {
   "cell_type": "code",
   "execution_count": null,
   "id": "ce0cce13",
   "metadata": {},
   "outputs": [],
   "source": [
    "x = 10\n",
    "if x > 5:\n",
    "    print('x is greater than 5')\n",
    "elif x == 5:\n",
    "    print('x is 5')\n",
    "else:\n",
    "    print('x is less than 5')"
   ]
  },
  {
   "cell_type": "markdown",
   "id": "27f8cad6",
   "metadata": {},
   "source": [
    "### Dictionaries"
   ]
  },
  {
   "cell_type": "code",
   "execution_count": null,
   "id": "420aefb4",
   "metadata": {},
   "outputs": [],
   "source": [
    "student = {'name': 'Alice', 'age': 22, 'grade': 'A'}\n",
    "print(student['name'])\n",
    "print(student.get('age'))"
   ]
  },
  {
   "cell_type": "markdown",
   "id": "05060eb0",
   "metadata": {},
   "source": [
    "### List Comprehension"
   ]
  },
  {
   "cell_type": "code",
   "execution_count": null,
   "id": "b62d2bd7",
   "metadata": {},
   "outputs": [],
   "source": [
    "squared_numbers = [x**2 for x in range(10)]\n",
    "print(squared_numbers)"
   ]
  },
  {
   "cell_type": "markdown",
   "id": "4ab66a60",
   "metadata": {},
   "source": [
    "### Exception Handling"
   ]
  },
  {
   "cell_type": "code",
   "execution_count": null,
   "id": "5a3c9ab5",
   "metadata": {},
   "outputs": [],
   "source": [
    "try:\n",
    "    result = 10 / 0\n",
    "except ZeroDivisionError:\n",
    "    print('Cannot divide by zero!')"
   ]
  },
  {
   "cell_type": "markdown",
   "id": "c8155ff6",
   "metadata": {},
   "source": [
    "## Introduction to NumPy\n",
    "\n",
    "Now, let's explore NumPy."
   ]
  },
  {
   "cell_type": "code",
   "execution_count": null,
   "id": "bda1e5a4",
   "metadata": {},
   "outputs": [],
   "source": [
    "import numpy as np\n",
    "\n",
    "a = np.array([1, 2, 3, 4])\n",
    "print('NumPy Array:', a)\n",
    "\n",
    "b = a * 2\n",
    "print('Doubled Array:', b)"
   ]
  },
  {
   "cell_type": "code",
   "execution_count": null,
   "id": "5f689672",
   "metadata": {},
   "outputs": [],
   "source": [
    "A = np.random.rand(3, 3)\n",
    "B = np.random.rand(3, 3)\n",
    "C = np.dot(A, B)\n",
    "print('Matrix Multiplication Result:\\n', C)\n",
    "# You can also use np.matmul(A, B) or A @ B for matrix or vector multiplication or dot-product\n",
    "print('Matrix Multiplication Result:\\n', A @ B)"
   ]
  },
  {
   "cell_type": "markdown",
   "id": "b89fe389",
   "metadata": {},
   "source": [
    "## Lab 1 Assignments\n",
    "\n",
    "Let's get started with the exercises."
   ]
  },
  {
   "cell_type": "markdown",
   "id": "fc9d1084",
   "metadata": {},
   "source": [
    "### Problem 1: Odd Numbers Function\n",
    "Define a function that takes an argument `n` and returns a list of odd numbers from [0..n]."
   ]
  },
  {
   "cell_type": "code",
   "execution_count": 91,
   "id": "3557f0e9",
   "metadata": {},
   "outputs": [],
   "source": [
    "def odd_numbers(n):\n",
    "    return [x for x in range(n + 1) if x % 2 == 1]"
   ]
  },
  {
   "cell_type": "code",
   "execution_count": 92,
   "id": "d5a94093-a6c2-4523-b513-f03e6e93cddc",
   "metadata": {},
   "outputs": [
    {
     "data": {
      "text/plain": [
       "[1, 3, 5, 7]"
      ]
     },
     "execution_count": 92,
     "metadata": {},
     "output_type": "execute_result"
    }
   ],
   "source": [
    "odd_numbers(7)"
   ]
  },
  {
   "cell_type": "markdown",
   "id": "dff71ea5",
   "metadata": {},
   "source": [
    "### Problem 2: Read and Sort CSV File\n",
    "Define a function to read 'students.csv' and return a sorted list."
   ]
  },
  {
   "cell_type": "code",
   "execution_count": 76,
   "id": "0f63d866",
   "metadata": {},
   "outputs": [],
   "source": [
    "import csv\n",
    "\n",
    "def read_and_sort_csv(filename):\n",
    "    with open(filename, 'r') as csv_file:\n",
    "        csv_reader = csv.reader(csv_file)\n",
    "        students = [student for student in csv_reader]\n",
    "        students.sort(key=lambda s: s[1])\n",
    "        return students"
   ]
  },
  {
   "cell_type": "code",
   "execution_count": 93,
   "id": "007e3f6d-f8cd-4837-b0ec-03f48bf9f3d8",
   "metadata": {},
   "outputs": [
    {
     "name": "stdout",
     "output_type": "stream",
     "text": [
      "[['Ryan', '19', 'ELEN'], ['Daniel', '21', 'MECH'], ['Pedro', '22', 'AMTH'], ['Mike', '22', 'COEN'], ['Joe', '22', 'BIOE']]\n"
     ]
    }
   ],
   "source": [
    "print(read_and_sort_csv('students.csv'))"
   ]
  },
  {
   "cell_type": "markdown",
   "id": "ebf90585",
   "metadata": {},
   "source": [
    "### Bonus: Sort by Age Instead of Name"
   ]
  },
  {
   "cell_type": "markdown",
   "id": "e1d42426",
   "metadata": {},
   "source": [
    "### Problem 3: Most Frequent Character\n",
    "Define a function that counts character occurrences and returns the most frequent one."
   ]
  },
  {
   "cell_type": "code",
   "execution_count": 95,
   "id": "a2912ff4",
   "metadata": {},
   "outputs": [],
   "source": [
    "def most_frequent_char(s):\n",
    "    counts = {}\n",
    "\n",
    "    maxCount = 0\n",
    "    mostFreqChar = None\n",
    "    \n",
    "    for char in s:\n",
    "        if char not in counts:\n",
    "            counts[char] = 0\n",
    "        counts[char] += 1\n",
    "        if counts[char] > maxCount:\n",
    "            maxCount = counts[char]\n",
    "            mostFreqChar = char\n",
    "\n",
    "    return mostFreqChar"
   ]
  },
  {
   "cell_type": "code",
   "execution_count": 94,
   "id": "2d049eb8-8764-49ee-a999-736e95064c36",
   "metadata": {},
   "outputs": [
    {
     "name": "stdout",
     "output_type": "stream",
     "text": [
      "o\n"
     ]
    }
   ],
   "source": [
    "print(most_frequent_char('hellooooo'))"
   ]
  },
  {
   "cell_type": "markdown",
   "id": "bef239ef",
   "metadata": {},
   "source": [
    "### Problem 4: Pandas DataFrame Sorting\n",
    "Redo problem 2 using Pandas."
   ]
  },
  {
   "cell_type": "code",
   "execution_count": 96,
   "id": "ba0a3c0d",
   "metadata": {},
   "outputs": [],
   "source": [
    "import pandas as pd\n",
    "\n",
    "def read_and_sort_csv_pandas(filename):\n",
    "    df = pd.read_csv(filename, header=None)\n",
    "    return df.sort_values(by=1)"
   ]
  },
  {
   "cell_type": "code",
   "execution_count": 97,
   "id": "52baafbc-8a40-47d2-895f-91e2f9e6aeec",
   "metadata": {},
   "outputs": [
    {
     "name": "stdout",
     "output_type": "stream",
     "text": [
      "        0   1     2\n",
      "3    Ryan  19  ELEN\n",
      "2  Daniel  21  MECH\n",
      "1    Mike  22  COEN\n",
      "0   Pedro  22  AMTH\n",
      "4     Joe  22  BIOE\n"
     ]
    }
   ],
   "source": [
    "print(read_and_sort_csv_pandas('students.csv'))"
   ]
  },
  {
   "cell_type": "markdown",
   "id": "4362f927",
   "metadata": {},
   "source": [
    "## Part 2: NumPy and Performance Analysis"
   ]
  },
  {
   "cell_type": "markdown",
   "id": "6214a2f5",
   "metadata": {},
   "source": [
    "### Problem 5: NumPy Matrix Addition\n",
    "Write a program that creates two 100x100 NumPy arrays and adds them using loops and `+` operator."
   ]
  },
  {
   "cell_type": "code",
   "execution_count": 98,
   "id": "365a9a0c",
   "metadata": {},
   "outputs": [],
   "source": [
    "A = np.random.rand(100, 100)\n",
    "B = np.random.rand(100, 100)\n",
    "\n",
    "def add_matrices_loop(A, B):\n",
    "    C = np.empty_like(A)\n",
    "\n",
    "    rows, cols = A.shape\n",
    "    \n",
    "    for r in range(rows):\n",
    "        for c in range(cols):\n",
    "            C[r, c] = A[r, c] + B[r, c]\n",
    "\n",
    "    return C"
   ]
  },
  {
   "cell_type": "code",
   "execution_count": 99,
   "id": "a0e38d3c-965f-471e-a535-83445aec25bd",
   "metadata": {},
   "outputs": [
    {
     "name": "stdout",
     "output_type": "stream",
     "text": [
      "[[ 6  8]\n",
      " [10 12]]\n"
     ]
    }
   ],
   "source": [
    "a1 = np.array([[1,2],[3,4]])\n",
    "a2 = np.array([[5,6],[7,8]])\n",
    "print(add_matrices_loop(a1, a2))"
   ]
  },
  {
   "cell_type": "code",
   "execution_count": 100,
   "id": "e86c18a0",
   "metadata": {},
   "outputs": [],
   "source": [
    "def add_matrices_numpy(A, B):\n",
    "    return A + B"
   ]
  },
  {
   "cell_type": "code",
   "execution_count": 102,
   "id": "25f8dbc5-d8cf-4144-88df-2b316f9cc782",
   "metadata": {},
   "outputs": [
    {
     "name": "stdout",
     "output_type": "stream",
     "text": [
      "[[ 6  8]\n",
      " [10 12]]\n"
     ]
    }
   ],
   "source": [
    "print(add_matrices_loop(a1, a2))"
   ]
  },
  {
   "cell_type": "markdown",
   "id": "80b2f58e",
   "metadata": {},
   "source": [
    "### Problem 6: Timing the Methods"
   ]
  },
  {
   "cell_type": "code",
   "execution_count": 114,
   "id": "c6181d68",
   "metadata": {},
   "outputs": [],
   "source": [
    "import time\n",
    "\n",
    "def time_execution(func, *args):\n",
    "    start = time.time()\n",
    "    result = func(*args)\n",
    "    end = time.time()\n",
    "    return end - start\n",
    "\n",
    "loop_times = []\n",
    "numpy_times = []\n",
    "\n",
    "for reps in range(1000):\n",
    "    loop_times.append(time_execution(add_matrices_loop, A, B))\n",
    "    numpy_times.append(time_execution(add_matrices_numpy, A, B))"
   ]
  },
  {
   "cell_type": "markdown",
   "id": "6c0145da",
   "metadata": {},
   "source": [
    "### Problem 7: Histogram of Running Times"
   ]
  },
  {
   "cell_type": "code",
   "execution_count": 115,
   "id": "cb6f66fd",
   "metadata": {},
   "outputs": [
    {
     "data": {
      "image/png": "[encoded data removed]",
      "text/plain": [
       "<Figure size 640x480 with 1 Axes>"
      ]
     },
     "metadata": {},
     "output_type": "display_data"
    },
    {
     "data": {
      "image/png": "[encoded data removed]",
      "text/plain": [
       "<Figure size 640x480 with 1 Axes>"
      ]
     },
     "metadata": {},
     "output_type": "display_data"
    }
   ],
   "source": [
    "import matplotlib.pyplot as plt\n",
    "\n",
    "def plot_histogram(times, method):\n",
    "    plt.hist(times, bins=30, alpha=0.7, label=method)\n",
    "    plt.xlabel('Time (seconds)')\n",
    "    plt.ylabel('Frequency')\n",
    "    plt.title('Histogram of Execution Times')\n",
    "    plt.legend()\n",
    "    plt.show()\n",
    "\n",
    "plot_histogram(loop_times, \"Loop Execution Times\")\n",
    "plot_histogram(numpy_times, \"Numpy Execution Times\")"
   ]
  },
  {
   "cell_type": "markdown",
   "id": "a2636750",
   "metadata": {},
   "source": [
    "### Problem 8: Your Own Example\n",
    "Create a simple Python program of your choice in Jupyter Notebook."
   ]
  },
  {
   "cell_type": "code",
   "execution_count": 116,
   "id": "761c699d-c1f5-43f6-9dca-71a21121b97a",
   "metadata": {},
   "outputs": [],
   "source": [
    "def set_edges_to_zero(A):\n",
    "    rows, cols = A.shape\n",
    "\n",
    "    row_zeroes = [0] * cols\n",
    "    col_zeroes = [0] * rows\n",
    "    \n",
    "    A[0, :] = row_zeroes;\n",
    "    A[rows - 1, :] = row_zeroes;\n",
    "    A[:, 0] = col_zeroes;\n",
    "    A[:, cols - 1] = col_zeroes;\n",
    "\n",
    "    return A"
   ]
  },
  {
   "cell_type": "code",
   "execution_count": 117,
   "id": "8d597dab-d02c-4a99-81cb-b507b419c4ba",
   "metadata": {},
   "outputs": [
    {
     "name": "stdout",
     "output_type": "stream",
     "text": [
      "[[0 0]\n",
      " [0 0]]\n",
      "[[0 0 0]\n",
      " [0 5 0]\n",
      " [0 0 0]]\n",
      "[[0 0 0 0]\n",
      " [0 6 7 0]\n",
      " [0 0 0 0]]\n"
     ]
    }
   ],
   "source": [
    "arr1 = np.array([[1, 2], [3, 4]])\n",
    "arr2 = np.array([[1, 2, 3], [4, 5, 6], [7, 8, 9]])\n",
    "arr3 = np.array([[1, 2, 3, 4], [5, 6, 7, 8], [9, 10, 11, 12]])\n",
    "\n",
    "print(set_edges_to_zero(arr1))\n",
    "print(set_edges_to_zero(arr2))\n",
    "print(set_edges_to_zero(arr3))"
   ]
  }
 ],
 "metadata": {
  "kernelspec": {
   "display_name": "140wi25",
   "language": "python",
   "name": "140wi25"
  },
  "language_info": {
   "codemirror_mode": {
    "name": "ipython",
    "version": 3
   },
   "file_extension": ".py",
   "mimetype": "text/x-python",
   "name": "python",
   "nbconvert_exporter": "python",
   "pygments_lexer": "ipython3",
   "version": "3.9.21"
  }
 },
 "nbformat": 4,
 "nbformat_minor": 5
}
